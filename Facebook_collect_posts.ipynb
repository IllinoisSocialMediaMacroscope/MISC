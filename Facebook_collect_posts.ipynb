{
 "cells": [
  {
   "cell_type": "code",
   "execution_count": null,
   "metadata": {},
   "outputs": [],
   "source": [
    "import requests\n",
    "import json\n",
    "import datetime\n",
    "import csv\n",
    "import time"
   ]
  },
  {
   "cell_type": "code",
   "execution_count": null,
   "metadata": {},
   "outputs": [],
   "source": [
    "page_id = \"babygurunutrition/community\"\n",
    "\n",
    "# go to https://developers.facebook.com/tools/explorer/ to retreive a temp access token for testing purpose\n",
    "access_token = \"your access token\""
   ]
  },
  {
   "cell_type": "code",
   "execution_count": null,
   "metadata": {},
   "outputs": [],
   "source": [
    "def getPage(page_id, access_token):\n",
    "    base = \"https://graph.facebook.com/v2.11\"\n",
    "    node = \"/\" + page_id\n",
    "    params = \"?access_token=%s\" % access_token\n",
    "    url = base + node + params\n",
    "    \n",
    "    print(url)\n",
    "    \n",
    "    r = requests.get(url)\n",
    "    return r"
   ]
  },
  {
   "cell_type": "code",
   "execution_count": null,
   "metadata": {},
   "outputs": [],
   "source": [
    "getPage(page_id, access_token)"
   ]
  },
  {
   "cell_type": "code",
   "execution_count": null,
   "metadata": {},
   "outputs": [],
   "source": [
    "def processFacebookPageFeedStatus(status):\n",
    "    \n",
    "    if 'created_time' in status.keys():\n",
    "        created_time = status['created_time'] \n",
    "    else:\n",
    "        created_time = ''\n",
    "    \n",
    "    if 'description' in status.keys():\n",
    "        description = status['description']\n",
    "    else:\n",
    "        description = ''\n",
    "        \n",
    "    if 'full_picture' in status.keys():    \n",
    "        full_picture = status['full_picture']\n",
    "    else:\n",
    "        full_picture = ''\n",
    "        \n",
    "    if 'id' in status.keys():        \n",
    "        id = status['id']\n",
    "    else:\n",
    "        id = ''\n",
    "        \n",
    "    if 'link' in status.keys():   \n",
    "        link = status['link']\n",
    "    else:\n",
    "        link = ''\n",
    "        \n",
    "    if 'message' in status.keys():\n",
    "        message = status['message']\n",
    "    else:\n",
    "        message = ''\n",
    "        \n",
    "    if 'name' in status.keys():    \n",
    "        name = status['name']\n",
    "    else:\n",
    "        name = ''\n",
    "        \n",
    "    if 'type' in status.keys():\n",
    "        type = status['type']\n",
    "    else:\n",
    "        type = ''\n",
    "    \n",
    "    # return a tuple of all processed data\n",
    "    return (created_time, description, full_picture, id, link,\n",
    "           message, name, type)"
   ]
  },
  {
   "cell_type": "code",
   "execution_count": null,
   "metadata": {},
   "outputs": [],
   "source": [
    "def queryFB (page_id, access_token):\n",
    "    \"\"\" retrieve the statuses of one page for a specified time range\"\"\"\n",
    "    # format since = \"YYYY-MM-DD\"T\"HH:MM:SS+XXXX\" (XXXX = time zone difference)\n",
    "    # format until = \"YYYY-MM-DD\"T\"HH:MM:SS\"\n",
    "    # format access_token = [app_id] + \"|\" + [app_secret]       \n",
    "\n",
    "    # build URL\n",
    "    base = \"https://graph.facebook.com/v2.11\"\n",
    "    node = \"/\" + page_id + \"/tagged\"\n",
    "    params = \"?fields=link,created_time,type,name,id,description,full_picture,message,status_type&limit=%s&access_token=%s\"\\\n",
    "    % (100, access_token)\n",
    "\n",
    "    url = base + node + params\n",
    "    print(url)\n",
    "        \n",
    "    r = requests.get(url)\n",
    "    \n",
    "    data = json.loads(r.text)\n",
    "    return (data,url)"
   ]
  },
  {
   "cell_type": "code",
   "execution_count": null,
   "metadata": {},
   "outputs": [],
   "source": [
    "queryFB('babygurunutrition', access_token)"
   ]
  },
  {
   "cell_type": "code",
   "execution_count": null,
   "metadata": {},
   "outputs": [],
   "source": [
    "def scrapeFacebookPageFeedStatus(page_id, access_token):\n",
    "    with open('%s_facebook_statuses.csv' %page_id, 'w', newline='') as f:\n",
    "        w = csv.writer(f)\n",
    "        w. writerow(['created_time','description','full_picture','id','link','message','name', 'type'])\n",
    "        \n",
    "        has_next_page = True\n",
    "        num_processed = 0\n",
    "        \n",
    "        statuses,url = queryFB(page_id, access_token)\n",
    "        \n",
    "        while has_next_page:\n",
    "            for status in statuses['data']:\n",
    "                w.writerow(processFacebookPageFeedStatus(status))\n",
    "                \n",
    "                num_processed += 1\n",
    "                \n",
    "            if 'paging' in statuses.keys() and 'next' in statuses['paging'].keys():\n",
    "                statuses = requests.get(statuses['paging']['next']).json()\n",
    "            else:\n",
    "                has_next_page = False\n",
    "        \n",
    "        print('%s statuses has been collected for %s' %(num_processed, page_id))"
   ]
  },
  {
   "cell_type": "code",
   "execution_count": null,
   "metadata": {
    "scrolled": false
   },
   "outputs": [],
   "source": [
    "scrapeFacebookPageFeedStatus(page_id, access_token)"
   ]
  }
 ],
 "metadata": {
  "kernelspec": {
   "display_name": "Python 3",
   "language": "python",
   "name": "python3"
  },
  "language_info": {
   "codemirror_mode": {
    "name": "ipython",
    "version": 3
   },
   "file_extension": ".py",
   "mimetype": "text/x-python",
   "name": "python",
   "nbconvert_exporter": "python",
   "pygments_lexer": "ipython3",
   "version": "3.6.4"
  }
 },
 "nbformat": 4,
 "nbformat_minor": 2
}
