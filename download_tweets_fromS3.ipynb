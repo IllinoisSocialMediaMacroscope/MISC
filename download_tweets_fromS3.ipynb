{
 "cells": [
  {
   "cell_type": "code",
   "execution_count": 2,
   "metadata": {},
   "outputs": [],
   "source": [
    "import os\n",
    "import requests\n",
    "import boto3"
   ]
  },
  {
   "cell_type": "code",
   "execution_count": 3,
   "metadata": {},
   "outputs": [],
   "source": [
    "client = boto3.client('s3', \n",
    "                      aws_access_key_id= '****removed****', \n",
    "                      aws_secret_access_key= '****removed****')\n",
    "bucketName = 'store-twitter-stream'"
   ]
  },
  {
   "cell_type": "code",
   "execution_count": 4,
   "metadata": {},
   "outputs": [],
   "source": [
    "def downloadToDisk(filename, localPath, remotePath):\n",
    "    with open(os.path.join(localPath, filename), 'wb') as f:\n",
    "        client.download_fileobj(bucketName, remotePath, f)"
   ]
  },
  {
   "cell_type": "code",
   "execution_count": 5,
   "metadata": {},
   "outputs": [],
   "source": [
    "def listFiles(remotePath):\n",
    "    objects = client.list_objects(Bucket=bucketName,\n",
    "                                  Prefix=remotePath)\n",
    "    \n",
    "    return objects.get('Contents')"
   ]
  },
  {
   "cell_type": "markdown",
   "metadata": {},
   "source": [
    "## Download raw streaming tweets from s3 bucket"
   ]
  },
  {
   "cell_type": "code",
   "execution_count": null,
   "metadata": {},
   "outputs": [
    {
     "name": "stdout",
     "output_type": "stream",
     "text": [
      "twitter/raw-data/2018/01/01/00\n",
      "twitter/raw-data/2018/01/01/01\n",
      "twitter/raw-data/2018/01/01/02\n",
      "twitter/raw-data/2018/01/01/03\n",
      "twitter/raw-data/2018/01/01/04\n",
      "twitter/raw-data/2018/01/01/05\n",
      "twitter/raw-data/2018/01/01/06\n",
      "twitter/raw-data/2018/01/01/07\n",
      "twitter/raw-data/2018/01/01/08\n",
      "twitter/raw-data/2018/01/01/09\n",
      "twitter/raw-data/2018/01/01/10\n",
      "twitter/raw-data/2018/01/01/11\n",
      "twitter/raw-data/2018/01/01/12\n",
      "twitter/raw-data/2018/01/01/13\n",
      "twitter/raw-data/2018/01/01/14\n",
      "twitter/raw-data/2018/01/01/15\n",
      "twitter/raw-data/2018/01/01/16\n",
      "twitter/raw-data/2018/01/01/17\n",
      "twitter/raw-data/2018/01/01/18\n",
      "twitter/raw-data/2018/01/01/19\n",
      "twitter/raw-data/2018/01/01/20\n",
      "twitter/raw-data/2018/01/01/21\n",
      "twitter/raw-data/2018/01/01/22\n",
      "twitter/raw-data/2018/01/01/23\n",
      "twitter/raw-data/2018/01/02/00\n",
      "twitter/raw-data/2018/01/02/01\n",
      "twitter/raw-data/2018/01/02/02\n",
      "twitter/raw-data/2018/01/02/03\n"
     ]
    }
   ],
   "source": [
    "for i in range(1,32):\n",
    "    for j in range(0,24):\n",
    "        foldername = 'twitter/raw-data/2018/01/' + '{:02d}'.format(i) + '/' + '{:02d}'.format(j) \n",
    "        print(foldername)\n",
    "        \n",
    "        file_list = listFiles(foldername)\n",
    "        for file in file_list:\n",
    "            filename = file['Key']\n",
    "            if not os.path.exists(foldername):\n",
    "                os.makedirs(foldername)\n",
    "            with open(filename + '.json','wb') as f:\n",
    "                client.download_fileobj(bucketName, filename, f)"
   ]
  }
 ],
 "metadata": {
  "kernelspec": {
   "display_name": "Python 3",
   "language": "python",
   "name": "python3"
  },
  "language_info": {
   "codemirror_mode": {
    "name": "ipython",
    "version": 3
   },
   "file_extension": ".py",
   "mimetype": "text/x-python",
   "name": "python",
   "nbconvert_exporter": "python",
   "pygments_lexer": "ipython3",
   "version": "3.6.4"
  }
 },
 "nbformat": 4,
 "nbformat_minor": 2
}
