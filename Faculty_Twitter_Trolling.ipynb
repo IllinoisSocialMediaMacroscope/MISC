{
 "cells": [
  {
   "cell_type": "code",
   "execution_count": 16,
   "metadata": {},
   "outputs": [],
   "source": [
    "import requests\n",
    "from requests_oauthlib import OAuth1"
   ]
  },
  {
   "cell_type": "code",
   "execution_count": 17,
   "metadata": {},
   "outputs": [],
   "source": [
    "consumer_key = 'your consumer key'\n",
    "consumer_secret = 'your consumer secret'\n",
    "access_token = 'your access token'\n",
    "access_token_secret='your access token secret'"
   ]
  },
  {
   "cell_type": "code",
   "execution_count": 19,
   "metadata": {},
   "outputs": [],
   "source": [
    "auth = OAuth1(consumer_key, consumer_secret,\n",
    "              access_token, access_token_secret)"
   ]
  },
  {
   "cell_type": "markdown",
   "metadata": {},
   "source": [
    "## GET statuses/mentions_timeline\n",
    "    - Returns the 20 most recent mentions (Tweets containing a users’s @screen_name) for the authenticating user.\n",
    "    - The timeline returned is the equivalent of the one seen when you view your mentions on twitter.com.\n",
    "    - This method can only return up to 800 tweets.\n",
    "    - Requests / 15-min window (user auth)\t75"
   ]
  },
  {
   "cell_type": "markdown",
   "metadata": {},
   "source": [
    "## list the most recent 200 mentions you get"
   ]
  },
  {
   "cell_type": "code",
   "execution_count": 53,
   "metadata": {
    "scrolled": false
   },
   "outputs": [
    {
     "name": "stdout",
     "output_type": "stream",
     "text": [
      "screen_name: GentlePersuader\n",
      "id_str: 803471191184961536\n",
      "created_at: Tue Nov 29 05:30:34 +0000 2016\n",
      "\n",
      "\n",
      "screen_name: GentlePersuader\n",
      "id_str: 803471191184961536\n",
      "created_at: Tue Nov 29 05:30:34 +0000 2016\n",
      "\n",
      "\n",
      "screen_name: GentlePersuader\n",
      "id_str: 803471191184961536\n",
      "created_at: Tue Nov 29 05:30:34 +0000 2016\n",
      "\n",
      "\n",
      "screen_name: GentlePersuader\n",
      "id_str: 803471191184961536\n",
      "created_at: Tue Nov 29 05:30:34 +0000 2016\n",
      "\n",
      "\n",
      "screen_name: GentlePersuader\n",
      "id_str: 803471191184961536\n",
      "created_at: Tue Nov 29 05:30:34 +0000 2016\n",
      "\n",
      "\n",
      "screen_name: GentlePersuader\n",
      "id_str: 803471191184961536\n",
      "created_at: Tue Nov 29 05:30:34 +0000 2016\n",
      "\n",
      "\n",
      "screen_name: GentlePersuader\n",
      "id_str: 803471191184961536\n",
      "created_at: Tue Nov 29 05:30:34 +0000 2016\n",
      "\n",
      "\n",
      "screen_name: GentlePersuader\n",
      "id_str: 803471191184961536\n",
      "created_at: Tue Nov 29 05:30:34 +0000 2016\n",
      "\n",
      "\n",
      "screen_name: GentlePersuader\n",
      "id_str: 803471191184961536\n",
      "created_at: Tue Nov 29 05:30:34 +0000 2016\n",
      "\n",
      "\n",
      "screen_name: GentlePersuader\n",
      "id_str: 803471191184961536\n",
      "created_at: Tue Nov 29 05:30:34 +0000 2016\n",
      "\n",
      "\n",
      "screen_name: GentlePersuader\n",
      "id_str: 803471191184961536\n",
      "created_at: Tue Nov 29 05:30:34 +0000 2016\n",
      "\n",
      "\n",
      "screen_name: GentlePersuader\n",
      "id_str: 803471191184961536\n",
      "created_at: Tue Nov 29 05:30:34 +0000 2016\n",
      "\n",
      "\n",
      "screen_name: GentlePersuader\n",
      "id_str: 803471191184961536\n",
      "created_at: Tue Nov 29 05:30:34 +0000 2016\n",
      "\n",
      "\n",
      "screen_name: GentlePersuader\n",
      "id_str: 803471191184961536\n",
      "created_at: Tue Nov 29 05:30:34 +0000 2016\n",
      "\n",
      "\n",
      "screen_name: GentlePersuader\n",
      "id_str: 803471191184961536\n",
      "created_at: Tue Nov 29 05:30:34 +0000 2016\n",
      "\n",
      "\n",
      "screen_name: GentlePersuader\n",
      "id_str: 803471191184961536\n",
      "created_at: Tue Nov 29 05:30:34 +0000 2016\n",
      "\n",
      "\n",
      "screen_name: GentlePersuader\n",
      "id_str: 803471191184961536\n",
      "created_at: Tue Nov 29 05:30:34 +0000 2016\n",
      "\n",
      "\n",
      "screen_name: GentlePersuader\n",
      "id_str: 803471191184961536\n",
      "created_at: Tue Nov 29 05:30:34 +0000 2016\n",
      "\n",
      "\n",
      "screen_name: GentlePersuader\n",
      "id_str: 803471191184961536\n",
      "created_at: Tue Nov 29 05:30:34 +0000 2016\n",
      "\n",
      "\n",
      "screen_name: GentlePersuader\n",
      "id_str: 803471191184961536\n",
      "created_at: Tue Nov 29 05:30:34 +0000 2016\n",
      "\n",
      "\n",
      "screen_name: GentlePersuader\n",
      "id_str: 803471191184961536\n",
      "created_at: Tue Nov 29 05:30:34 +0000 2016\n",
      "\n",
      "\n",
      "screen_name: GentlePersuader\n",
      "id_str: 803471191184961536\n",
      "created_at: Tue Nov 29 05:30:34 +0000 2016\n",
      "\n",
      "\n",
      "screen_name: GentlePersuader\n",
      "id_str: 803471191184961536\n",
      "created_at: Tue Nov 29 05:30:34 +0000 2016\n",
      "\n",
      "\n",
      "screen_name: GentlePersuader\n",
      "id_str: 803471191184961536\n",
      "created_at: Tue Nov 29 05:30:34 +0000 2016\n",
      "\n",
      "\n",
      "screen_name: GentlePersuader\n",
      "id_str: 803471191184961536\n",
      "created_at: Tue Nov 29 05:30:34 +0000 2016\n",
      "\n",
      "\n",
      "screen_name: GentlePersuader\n",
      "id_str: 803471191184961536\n",
      "created_at: Tue Nov 29 05:30:34 +0000 2016\n",
      "\n",
      "\n",
      "screen_name: GentlePersuader\n",
      "id_str: 803471191184961536\n",
      "created_at: Tue Nov 29 05:30:34 +0000 2016\n",
      "\n",
      "\n",
      "screen_name: GentlePersuader\n",
      "id_str: 803471191184961536\n",
      "created_at: Tue Nov 29 05:30:34 +0000 2016\n",
      "\n",
      "\n",
      "screen_name: GentlePersuader\n",
      "id_str: 803471191184961536\n",
      "created_at: Tue Nov 29 05:30:34 +0000 2016\n",
      "\n",
      "\n"
     ]
    }
   ],
   "source": [
    "params = { 'count': 200 }\n",
    "url = 'https://api.twitter.com/1.1/statuses/mentions_timeline.json'\n",
    "response = requests.get(url=url, params = params, auth=auth)\n",
    "\n",
    "for obj in response.json():\n",
    "    mentioner = obj['user']\n",
    "    print('screen_name:', mentioner['screen_name'])\n",
    "    print('id_str:', mentioner['id_str'])\n",
    "    print('created_at:', mentioner['created_at'])\n",
    "    print('\\n')"
   ]
  },
  {
   "cell_type": "markdown",
   "metadata": {},
   "source": [
    "## stats that helps you to narrow down your trolling\n",
    "    - mentioning count threshold?\n",
    "    - verified or not?"
   ]
  },
  {
   "cell_type": "code",
   "execution_count": 54,
   "metadata": {},
   "outputs": [],
   "source": [
    "def mention_stats(response):\n",
    "    mention_count = {}\n",
    "    verified_list = []\n",
    "    for obj in response.json():\n",
    "        mentioner = obj['user']\n",
    "\n",
    "        # calculate mentioning counts\n",
    "        if mentioner['screen_name'] in mention_count:\n",
    "            mention_count[mentioner['screen_name']] += 1\n",
    "        else:\n",
    "            mention_count[mentioner['screen_name']] = 1\n",
    "\n",
    "        # verified or not    \n",
    "        if mentioner['verified'] == True and mentioner['screen_name'] not in verified_list:\n",
    "            verified_list.append(mentioner['screen_name'])\n",
    "    \n",
    "    return {'mention count': mention_count,\n",
    "            'verified account:': verified_list}"
   ]
  },
  {
   "cell_type": "code",
   "execution_count": 55,
   "metadata": {},
   "outputs": [
    {
     "name": "stdout",
     "output_type": "stream",
     "text": [
      "{'mention count': {'GentlePersuader': 29}, 'verified account:': []}\n"
     ]
    }
   ],
   "source": [
    "print(mention_stats(response))"
   ]
  },
  {
   "cell_type": "markdown",
   "metadata": {},
   "source": [
    "## Block, Unblock, Get list of Blocked\n",
    "### POST blocks/create\n",
    "Blocks the specified user from following the authenticating user. In addition the blocked user will not show in the authenticating users mentions or timeline (unless retweeted by another user). If a follow or friend relationship exists it is destroyed.\n",
    "\n",
    "The URL pattern /version/block/create/:screen_name_or_user_id.format is still accepted but not recommended. As a sequence of numbers is a valid screen name we recommend using the screen_name or user_id parameter instead."
   ]
  },
  {
   "cell_type": "code",
   "execution_count": 45,
   "metadata": {},
   "outputs": [
    {
     "name": "stdout",
     "output_type": "stream",
     "text": [
      "200\n",
      "{\"id\":803471191184961536,\"id_str\":\"803471191184961536\",\"name\":\"Ben Persuader\",\"screen_name\":\"GentlePersuader\",\"location\":\"Galle Crater\",\"description\":\"https:\\/\\/t.co\\/8U49Gi3aiw\",\"url\":null,\"entities\":{\"description\":{\"urls\":[{\"url\":\"https:\\/\\/t.co\\/8U49Gi3aiw\",\"expanded_url\":\"https:\\/\\/opalcp12.wikispaces.com\\/file\\/view\\/I+Always+Do+What+Teddy+Says.pdf\",\"display_url\":\"opalcp12.wikispaces.com\\/file\\/view\\/I+Al\\u2026\",\"indices\":[0,23]}]}},\"protected\":false,\"followers_count\":10,\"friends_count\":5,\"listed_count\":2,\"created_at\":\"Tue Nov 29 05:30:34 +0000 2016\",\"favourites_count\":3,\"utc_offset\":-18000,\"time_zone\":\"Central Time (US & Canada)\",\"geo_enabled\":false,\"verified\":false,\"statuses_count\":8713,\"lang\":\"en\",\"status\":{\"created_at\":\"Sat Jan 27 17:43:06 +0000 2018\",\"id\":957307995251191808,\"id_str\":\"957307995251191808\",\"text\":\"I added a video to a @YouTube playlist https:\\/\\/t.co\\/r3edKSiw6e Akcent feat. Amira - Push [Love The Show] (Official Music Video)\",\"truncated\":false,\"entities\":{\"hashtags\":[],\"symbols\":[],\"user_mentions\":[{\"screen_name\":\"YouTube\",\"name\":\"YouTube\",\"id\":10228272,\"id_str\":\"10228272\",\"indices\":[21,29]}],\"urls\":[{\"url\":\"https:\\/\\/t.co\\/r3edKSiw6e\",\"expanded_url\":\"http:\\/\\/youtu.be\\/F7fBsN_E60Q?a\",\"display_url\":\"youtu.be\\/F7fBsN_E60Q?a\",\"indices\":[39,62]}]},\"source\":\"\\u003ca href=\\\"http:\\/\\/www.google.com\\/\\\" rel=\\\"nofollow\\\"\\u003eGoogle\\u003c\\/a\\u003e\",\"in_reply_to_status_id\":null,\"in_reply_to_status_id_str\":null,\"in_reply_to_user_id\":null,\"in_reply_to_user_id_str\":null,\"in_reply_to_screen_name\":null,\"geo\":null,\"coordinates\":null,\"place\":null,\"contributors\":null,\"is_quote_status\":false,\"retweet_count\":0,\"favorite_count\":0,\"favorited\":false,\"retweeted\":false,\"possibly_sensitive\":false,\"lang\":\"en\"},\"contributors_enabled\":false,\"is_translator\":false,\"is_translation_enabled\":false,\"profile_background_color\":\"F5F8FA\",\"profile_background_image_url\":null,\"profile_background_image_url_https\":null,\"profile_background_tile\":false,\"profile_image_url\":\"http:\\/\\/pbs.twimg.com\\/profile_images\\/804191214522236928\\/mKMw-J0R_normal.jpg\",\"profile_image_url_https\":\"https:\\/\\/pbs.twimg.com\\/profile_images\\/804191214522236928\\/mKMw-J0R_normal.jpg\",\"profile_link_color\":\"1DA1F2\",\"profile_sidebar_border_color\":\"C0DEED\",\"profile_sidebar_fill_color\":\"DDEEF6\",\"profile_text_color\":\"333333\",\"profile_use_background_image\":true,\"has_extended_profile\":true,\"default_profile\":true,\"default_profile_image\":false,\"following\":false,\"follow_request_sent\":false,\"notifications\":false,\"muting\":false,\"translator_type\":\"none\"}\n"
     ]
    }
   ],
   "source": [
    "params = { 'screen_name': 'GentlePersuader' }\n",
    "url = 'https://api.twitter.com/1.1/blocks/create.json'\n",
    "response = requests.post(url=url, params = params, auth=auth)\n",
    "print(response.status_code)\n",
    "print(response.text)"
   ]
  },
  {
   "cell_type": "markdown",
   "metadata": {},
   "source": [
    "### POST blocks/destroy\n",
    "Un-blocks the user specified in the ID parameter for the authenticating user. Returns the un-blocked user when successful. If relationships existed before the block was instantiated, they will not be restored."
   ]
  },
  {
   "cell_type": "code",
   "execution_count": 51,
   "metadata": {},
   "outputs": [
    {
     "name": "stdout",
     "output_type": "stream",
     "text": [
      "200\n",
      "{\"id\":803471191184961536,\"id_str\":\"803471191184961536\",\"name\":\"Ben Persuader\",\"screen_name\":\"GentlePersuader\",\"location\":\"Galle Crater\",\"description\":\"https:\\/\\/t.co\\/8U49Gi3aiw\",\"url\":null,\"entities\":{\"description\":{\"urls\":[{\"url\":\"https:\\/\\/t.co\\/8U49Gi3aiw\",\"expanded_url\":\"https:\\/\\/opalcp12.wikispaces.com\\/file\\/view\\/I+Always+Do+What+Teddy+Says.pdf\",\"display_url\":\"opalcp12.wikispaces.com\\/file\\/view\\/I+Al\\u2026\",\"indices\":[0,23]}]}},\"protected\":false,\"followers_count\":10,\"friends_count\":5,\"listed_count\":2,\"created_at\":\"Tue Nov 29 05:30:34 +0000 2016\",\"favourites_count\":3,\"utc_offset\":-18000,\"time_zone\":\"Central Time (US & Canada)\",\"geo_enabled\":false,\"verified\":false,\"statuses_count\":8713,\"lang\":\"en\",\"status\":{\"created_at\":\"Sat Jan 27 17:43:06 +0000 2018\",\"id\":957307995251191808,\"id_str\":\"957307995251191808\",\"text\":\"I added a video to a @YouTube playlist https:\\/\\/t.co\\/r3edKSiw6e Akcent feat. Amira - Push [Love The Show] (Official Music Video)\",\"truncated\":false,\"entities\":{\"hashtags\":[],\"symbols\":[],\"user_mentions\":[{\"screen_name\":\"YouTube\",\"name\":\"YouTube\",\"id\":10228272,\"id_str\":\"10228272\",\"indices\":[21,29]}],\"urls\":[{\"url\":\"https:\\/\\/t.co\\/r3edKSiw6e\",\"expanded_url\":\"http:\\/\\/youtu.be\\/F7fBsN_E60Q?a\",\"display_url\":\"youtu.be\\/F7fBsN_E60Q?a\",\"indices\":[39,62]}]},\"source\":\"\\u003ca href=\\\"http:\\/\\/www.google.com\\/\\\" rel=\\\"nofollow\\\"\\u003eGoogle\\u003c\\/a\\u003e\",\"in_reply_to_status_id\":null,\"in_reply_to_status_id_str\":null,\"in_reply_to_user_id\":null,\"in_reply_to_user_id_str\":null,\"in_reply_to_screen_name\":null,\"geo\":null,\"coordinates\":null,\"place\":null,\"contributors\":null,\"is_quote_status\":false,\"retweet_count\":0,\"favorite_count\":0,\"favorited\":false,\"retweeted\":false,\"possibly_sensitive\":false,\"lang\":\"en\"},\"contributors_enabled\":false,\"is_translator\":false,\"is_translation_enabled\":false,\"profile_background_color\":\"F5F8FA\",\"profile_background_image_url\":null,\"profile_background_image_url_https\":null,\"profile_background_tile\":false,\"profile_image_url\":\"http:\\/\\/pbs.twimg.com\\/profile_images\\/804191214522236928\\/mKMw-J0R_normal.jpg\",\"profile_image_url_https\":\"https:\\/\\/pbs.twimg.com\\/profile_images\\/804191214522236928\\/mKMw-J0R_normal.jpg\",\"profile_link_color\":\"1DA1F2\",\"profile_sidebar_border_color\":\"C0DEED\",\"profile_sidebar_fill_color\":\"DDEEF6\",\"profile_text_color\":\"333333\",\"profile_use_background_image\":true,\"has_extended_profile\":true,\"default_profile\":true,\"default_profile_image\":false,\"following\":false,\"follow_request_sent\":false,\"notifications\":false,\"muting\":false,\"translator_type\":\"none\"}\n"
     ]
    }
   ],
   "source": [
    "params = { 'screen_name': 'GentlePersuader' }\n",
    "url = 'https://api.twitter.com/1.1/blocks/destroy.json'\n",
    "response = requests.post(url=url, params = params, auth=auth)\n",
    "print(response.status_code)\n",
    "print(response.text)"
   ]
  },
  {
   "cell_type": "markdown",
   "metadata": {},
   "source": [
    "### GET blocks/ids\n",
    "    - Returns an array of numeric user ids the authenticating user is blocking.\n",
    "    - Requests / 15-min window (user auth)\t15\n",
    "    - cursor: Causes the list of blocked users to be broken into pages of no more than 5000 IDs at a time. The number of IDs returned is not guaranteed to be 5000 as suspended users are filtered out after connections are queried. If no cursor is provided, a value of -1 will be assumed, which is the first “page.” The response from the API will include a previous_cursor and next_cursor to allow paging back and forth. See Using cursors to navigate collections for more information.\n",
    "\n",
    "Important This method is cursored, meaning your app must make multiple requests in order to receive all blocks correctly. See Using cursors to navigate collections for more details on how cursoring works."
   ]
  },
  {
   "cell_type": "code",
   "execution_count": 46,
   "metadata": {},
   "outputs": [
    {
     "name": "stdout",
     "output_type": "stream",
     "text": [
      "GentlePersuader\n"
     ]
    }
   ],
   "source": [
    "url = 'https://api.twitter.com/1.1/blocks/list.json'\n",
    "response = requests.get(url=url, auth=auth)\n",
    "for user in response.json()['users']:\n",
    "    print(user['screen_name'])"
   ]
  },
  {
   "cell_type": "markdown",
   "metadata": {},
   "source": [
    "## Periodically retrieve mentions list\n",
    "    - rate limit is 75 requests every 15 minutes \n",
    "    - maybe time interval should be set to every 5 minutes?"
   ]
  },
  {
   "cell_type": "code",
   "execution_count": 57,
   "metadata": {},
   "outputs": [],
   "source": [
    "import time, threading"
   ]
  },
  {
   "cell_type": "code",
   "execution_count": 58,
   "metadata": {},
   "outputs": [],
   "source": [
    "params = { 'count': 200 }\n",
    "url = 'https://api.twitter.com/1.1/statuses/mentions_timeline.json'"
   ]
  },
  {
   "cell_type": "code",
   "execution_count": 61,
   "metadata": {},
   "outputs": [],
   "source": [
    "def periodic_retreive_mentions():    \n",
    "    response = requests.get(url=url, params = params, auth=auth)\n",
    "    print(time.ctime())\n",
    "    print(mention_stats(response))\n",
    "    threading.Timer(10, periodic_retreive_mentions).start()"
   ]
  },
  {
   "cell_type": "code",
   "execution_count": 62,
   "metadata": {},
   "outputs": [
    {
     "name": "stdout",
     "output_type": "stream",
     "text": [
      "Wed Mar 21 10:45:42 2018\n",
      "{'mention count': {'GentlePersuader': 29}, 'verified account:': []}\n",
      "Wed Mar 21 10:45:53 2018\n",
      "{'mention count': {'GentlePersuader': 29}, 'verified account:': []}\n",
      "Wed Mar 21 10:46:03 2018\n",
      "{'mention count': {'GentlePersuader': 29}, 'verified account:': []}\n",
      "Wed Mar 21 10:46:13 2018\n",
      "{'mention count': {'GentlePersuader': 29}, 'verified account:': []}\n"
     ]
    }
   ],
   "source": [
    "periodic_retreive_mentions()"
   ]
  }
 ],
 "metadata": {
  "kernelspec": {
   "display_name": "Python 3",
   "language": "python",
   "name": "python3"
  },
  "language_info": {
   "codemirror_mode": {
    "name": "ipython",
    "version": 3
   },
   "file_extension": ".py",
   "mimetype": "text/x-python",
   "name": "python",
   "nbconvert_exporter": "python",
   "pygments_lexer": "ipython3",
   "version": "3.6.4"
  }
 },
 "nbformat": 4,
 "nbformat_minor": 2
}
